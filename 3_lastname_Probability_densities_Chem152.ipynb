{
  "nbformat": 4,
  "nbformat_minor": 0,
  "metadata": {
    "kernelspec": {
      "display_name": "Python 3",
      "language": "python",
      "name": "python3"
    },
    "language_info": {
      "codemirror_mode": {
        "name": "ipython",
        "version": 3
      },
      "file_extension": ".py",
      "mimetype": "text/x-python",
      "name": "python",
      "nbconvert_exporter": "python",
      "pygments_lexer": "ipython3",
      "version": "3.8.3"
    },
    "colab": {
      "name": "3-lastname--Probability_densities_Chem152.ipynb",
      "provenance": [],
      "collapsed_sections": []
    }
  },
  "cells": [
    {
      "cell_type": "markdown",
      "metadata": {
        "id": "XA8Galt2hgJM"
      },
      "source": [
        "# Probability Densities\n",
        "\n",
        "### Computational Guided Inquiry for Physical Chemistry \n",
        "Written by Dr. Steven Neshyba (University of Puget Sound) and Dr. Timothy Guasco (Millikin University)\n",
        "<br><i>Adapted for Chem 152 at Santa Clara University by Dr. Grace Stokes </i></br>\n",
        "\n",
        "## Learning Objectives: \n",
        "1. Use Python graphics to visualize probability densities.\n",
        "2. Use Python to see what probability densities look like as thermodynamic functions and describe how each function varies with temperature.\n",
        "3. Based on symmetry, recognize when moments $\\langle v \\rangle , \\langle v^2 \\rangle ^\\frac{1}{2} , \\langle v^3 \\rangle ^\\frac{1}{3}$ will likely equal zero.\n"
      ]
    },
    {
      "cell_type": "markdown",
      "metadata": {
        "id": "uh9nhN0OhgJP"
      },
      "source": [
        "## Pre-class activities:\n",
        "\n",
        "Read the Introduction below. Reading this introduction will take a while, so make sure you set aside plenty of time.  You should also complete the pre-class quiz and read through the post-class quiz questions on CAMINO before you try to execute this program."
      ]
    },
    {
      "cell_type": "markdown",
      "metadata": {
        "id": "Jlzndp2ThgJP"
      },
      "source": [
        "## Introduction\n",
        "\n",
        "A probability density function describes the relative likelihood of a continuous random variable having a given value.  For example, gas molecules move over a continuous range of velocities and we can use the Boltzmann density function, $f_B$, to describe the x, y, or z-component of the velocity ($v_x$, $v_y$, or $v_z$).  In addition to a velocity component, this function also depends on the temperature (*T*) and the molar mass of the molecule (*M*); we say it is <em>parameterized</em> by these quantitites.  Similarly, the Maxwell density function, $f_M$, is a function of the speed (*v*), and is also parameterized by *T* and *M*.  Analytically, we write the Boltzmann density function as\n",
        "\n",
        "<p style='text-align: right;'>\n",
        "$ f_B(v_x) = N_Be^{-{\\scriptsize(\\dfrac{M}{2RT}}){\\Large v_x^2}} $\n",
        "$\\qquad\\qquad\\qquad\\qquad\\qquad\\qquad\\qquad\\qquad\\qquad  (1) $\n",
        "</p>\n",
        "\n",
        "where we have written it as a function of the x-direction velocity component, $v_x$ (the y- and z-forms look very similar).  The quantity $N_B$ is a normalization constant,\n",
        "\n",
        "<p style='text-align: right;'>\n",
        "$ N_B = {\\small{(\\dfrac{M}{2 \\pi RT}})}^{1/2} $\n",
        "$\\qquad\\qquad\\qquad\\qquad\\qquad\\qquad\\qquad\\qquad\\qquad  (2) $\n",
        "</p>"
      ]
    },
    {
      "cell_type": "markdown",
      "metadata": {
        "id": "9akALvjVhgJR"
      },
      "source": [
        "Similarly, the Maxwell density function is written\n",
        "\n",
        "<p style='text-align: right;'>\n",
        "$ f_M(v) = N_Mv^2e^{-{\\scriptsize(\\dfrac{M}{2RT}}){\\Large v^2}} $\n",
        "$\\qquad\\qquad\\qquad\\qquad\\qquad\\qquad\\qquad\\qquad\\qquad  (3) $\n",
        "</p>\n",
        "\n",
        "with a normalization constant of\n",
        "\n",
        "<p style='text-align: right;'>\n",
        "$ N_M = 4 \\pi {\\small{(\\dfrac{M}{2 \\pi RT}})}^{3/2} $\n",
        "$\\qquad\\qquad\\qquad\\qquad\\qquad\\qquad\\qquad\\qquad\\qquad  (4) $\n",
        "</p>"
      ]
    },
    {
      "cell_type": "markdown",
      "metadata": {
        "id": "GgKpZRMdhgJS"
      },
      "source": [
        "For a given molar mass, we can think of these functions as surfaces in two dimensions, (1) the velocity component or speed and (2) the temperature.  A shorthand for these surfaces would be $f_B(v_x,T)$ or $f_M(v,T)$.  What do such surfaces look like?  One is shown in the figure below.  Such figures are useful for developing an intuition about how molecules move; for example, it is evident from the figure that molecules exhibit a broader distribution of velocities at higher temperature.\n",
        "\n",
        "<p style='text-align: center;'>\n",
        "<img src=\"http://webspace.pugetsound.edu/facultypages/nesh/Notebook/fbsurface.png\" height=\"500\" width=\"500\"/>  \n",
        "\n",
        "<p style='text-align: center;'>\n",
        "<strong>Figure 1</strong>. Probability density as a function of velocity and temperature. "
      ]
    },
    {
      "cell_type": "markdown",
      "metadata": {
        "id": "PZ5dB7LzhgJS"
      },
      "source": [
        "An important quantitative use of probability densities is to calculate averages, or _moments_, which in thermodynamics are denoted using the notation $\\langle ...\\rangle$.  For example, the _first moment_ of the x-direction velocity component is calculated using the Boltzmann density function\n",
        "\n",
        "<p style='text-align: right;'>\n",
        "$ \\langle v_x \\rangle = \\int\\limits_{-\\infty}^{\\infty} v_xf_B(v_x)dv_x  $\n",
        "$\\qquad\\qquad\\qquad\\qquad\\qquad\\qquad\\qquad\\qquad\\qquad  (5) $\n",
        "</p>\n",
        "\n",
        "As can be seen from this equation, we calculate the first moment of the x-direction velocity component by integrating the product of the x-direction velocity component ($v_x$) and the Boltzmann density function ($f_B$) from -$\\infty$ to +$\\infty$.  Higher-order moments are calculated similarly, e.,g., the _second moment_ is found by integrating the product of the square of the x-component of the velocity ($v_x^2$) and the Boltzmann density function from -$\\infty$ to +$\\infty$\n",
        "\n",
        "<p style='text-align: right;'>\n",
        "$ \\langle v_x^2 \\rangle = \\int\\limits_{-\\infty}^{\\infty} v_x^2 f_B(v_x)dv_x  $\n",
        "$\\qquad\\qquad\\qquad\\qquad\\qquad\\qquad\\qquad\\qquad\\qquad  (6) $\n",
        "</p>"
      ]
    },
    {
      "cell_type": "markdown",
      "metadata": {
        "id": "zsJWfSPXhgJS"
      },
      "source": [
        "It turns out that various moments of the speed, when taken to appropriate powers, have special symbols and names: $\\langle v \\rangle$ is just the average speed, $\\langle v^2 \\rangle ^\\frac{1}{2}$ is called the root-mean-squared speed, $ \\langle v^3 \\rangle ^\\frac{1}{3}$ is called the cubed-root-mean-cubed speed.\n",
        "\n",
        "Some of the integrals written above can be evaluated analytically, which means a closed-form expression is available.  There are integral tables for that.  Other integrals can be seen, by inspecting the integrands (the function being integrated), to be equal to zero!  Other integrals (in fact, most integrals!) have no analytical solution.  But _all_ the integrals discussed so far can be evaluated numerically, with the help of a computer.  The main goal of this activity is to show you how to do that; on the way, you will pick up some intuition about the temperature dependence of probability density functions."
      ]
    },
    {
      "cell_type": "markdown",
      "metadata": {
        "id": "ADuduUhDhgJT"
      },
      "source": [
        "## In-class activities  \n",
        "You'll need to import various libraries for this. In the cell immediately below, you will need to execute this cell with shift-enter or by left-clicking the \"play button\" to the left. This command installs plotly, a library that can be used for making 3-D graphs"
      ]
    },
    {
      "cell_type": "code",
      "metadata": {
        "id": "JfPbbzmo0bhL"
      },
      "source": [
        "pip install plotly"
      ],
      "execution_count": null,
      "outputs": []
    },
    {
      "cell_type": "code",
      "metadata": {
        "id": "BRx2SHsRhgJT"
      },
      "source": [
        "# Execute this cell with shift-enter or by left-clicking the \"play button\" to the left. \n",
        "# This cell imports various libraries and packages that we will need\n",
        "# numpy is used for numerical operations\n",
        "import numpy as np\n",
        "\n",
        "# like plotly, matplotlib.pyplot is used to make simple 2-D plots.\n",
        "import matplotlib.pyplot as plt\n",
        "\n",
        "# This command makes 3-d plots using matplotlib but in google colaboratory, we are unable to zoom and re-size or interact with these 3-d plots.\n",
        "from mpl_toolkits.mplot3d import axes3d\n",
        "\n",
        "# This command makes our graphs zoom-able & resize-able\n",
        "import plotly.graph_objects as go"
      ],
      "execution_count": null,
      "outputs": []
    },
    {
      "cell_type": "markdown",
      "metadata": {
        "id": "mS0NxIaqhgJT"
      },
      "source": [
        "## Brief reminder about Python\n",
        "<i>Something you may (or may not) have noticed about Python is that when you hit \"SHIFT-ENTER\" or the \"PLAY\" button on the left side of a cell, the Python notebook only executes the current code block. This can have several unintended consequences. If you change a value and then go back and run an earlier code block, it will use the new value, not the first defined value, which may give you incorrect analysis. \n",
        "Similarly, if you open your notebook later, and try to run a code block in the middle, it may tell you that your variables are undefined, even though you can clearly see them defined in earlier code blocks. But if you didn’t re-run those code blocks, then Python doesn’t know they exist.</i></br>\n",
        "\n",
        "#Part 1. Boltzmann Distribution Functions\n",
        "The first objective is to get Python to display the Boltzmann probability density function, $f_B(v_x,T)$, of the gas you chose as a thermodynamic surface. You will want to set your ranges as -2000 to 2000 m/s for $v_x$ and 100 to 1000 K for _T_. Modify the cell below appropriately to do this."
      ]
    },
    {
      "cell_type": "code",
      "metadata": {
        "id": "Pz7kafNyhgJU"
      },
      "source": [
        "# This part explores the temperature dependence of f_B(v) \n",
        "R = 8.314\n",
        "n = 1\n",
        "M = 0.028\n",
        "\n",
        "# Calculate a grid of velocities and temperatures\n",
        "vx = np.linspace(-200,200)\n",
        "T = np.linspace(50,500)\n",
        "vxgrid,Tgrid = np.meshgrid(vx,T)\n",
        "\n",
        "# Get the probability density for every point on the grid\n",
        "D = M/(2*R*Tgrid)\n",
        "NB = np.sqrt(M/(2*np.pi*R*Tgrid))\n",
        "fBgrid= 1000 * NB * np.exp(-D*vxgrid**2)\n",
        "\n",
        "# Print Boltzmann function covering every v_x & T combination \n",
        "print(\"There are\", np.shape(vxgrid), \"points in vx\")\n",
        "print(\"There are\", np.shape(Tgrid), \"points in T\")\n",
        "print(\"There are\", np.shape(fBgrid), \"points in Boltzmann grid\")"
      ],
      "execution_count": null,
      "outputs": []
    },
    {
      "cell_type": "markdown",
      "metadata": {
        "id": "Fb-ATn8JhgJU"
      },
      "source": [
        "Now we're ready to graph it using <b>plotly</b>. As you learned in the previous Python exercise,  in the below, if you hover your mouse over the graph, you will observe a toolbar on the right side which allows you to zoom in, pan, and move the graph around. Make sure you try this now and see how it works. "
      ]
    },
    {
      "cell_type": "code",
      "metadata": {
        "id": "IyPx3xKk7b8K"
      },
      "source": [
        "# In this cell, you will make a 3-D graph of the Boltzmann distribution function as a function of the x-component of velocity (v_x) and temperature (T).\n",
        "\n",
        "# Graph the Boltzmann function in 3D using plotly\n",
        "figure_data = [\n",
        "               go.Surface(z=fBgrid, x=vxgrid, y=Tgrid),\n",
        "]\n",
        "\n",
        "# Create the figure with the data\n",
        "fig = go.Figure(data=figure_data)\n",
        "\n",
        "# Add title and label axes\n",
        "fig.update_layout(title = 'This 3-D plot shows how Boltzmann function (fB) varies with v_x and T',\n",
        "                  scene = dict(\n",
        "                    xaxis_title='vx (m/s)',\n",
        "                    yaxis_title='T (K)',\n",
        "                    zaxis_title='fB (s/m) x 1000'),\n",
        "                    )\n",
        "fig.show()"
      ],
      "execution_count": null,
      "outputs": []
    },
    {
      "cell_type": "markdown",
      "metadata": {
        "id": "Hfr6uHYYhgJV"
      },
      "source": [
        "# Your turn!\n",
        "You might notice that the tick labels on your z-axis are not very visually appealing.  In order to make your figure a bit more aesthetically pleasing, multiply $f_B$ by 1000 in the cell above (there are a couple of places you can do this).  You'll need to modify your axis label to account for this change. "
      ]
    },
    {
      "cell_type": "markdown",
      "metadata": {
        "id": "yMQBvueChgJW"
      },
      "source": [
        "## Post-class Quiz Question 1: \n",
        "Make a hand-drawn sketch of a single graph that contains two Boltzmann distribution functions $f_B (v_x)\\space$-- one at high temperature and one at low temperature. Your sketch must be clearly labeled and qualitatively correct in terms of the relative height and width of these two functions.\n",
        "\n",
        "# Part 2. Maxwell Distribution Functions\n",
        "Your next task is to make a similar two-dimensional surface for the _Maxwell_ probability distribution function, $f_M(v,T)$. As you did before, modify the cell below to set the temperature range from 100 to 1000 K. The Maxwell distribution describes speeds, so your _v_ values should go from 0 to 2000 m/s."
      ]
    },
    {
      "cell_type": "code",
      "metadata": {
        "id": "ed245YOyhgJW"
      },
      "source": [
        "# An array of speeds and temperatures\n",
        "v = np.linspace(0,200)\n",
        "T = np.linspace(10,100)\n",
        "vgrid,Tgrid = np.meshgrid(v,T)\n",
        "\n",
        "# Get the probability density for every point on the grid\n",
        "D = M/(2*R*Tgrid)\n",
        "NM = np.sqrt(2)*M**1.5*R**(-1.5)*Tgrid**(-1.5)*np.pi**(-0.5)\n",
        "fMgrid= 1000*NM*vgrid**2*np.exp(-D*vgrid**2)\n",
        "\n",
        "# Print Maxwell grid covering every speed (v) & T combination \n",
        "print(\"There are\", np.shape(vgrid), \"points in speed\")\n",
        "print(\"There are\", np.shape(Tgrid), \"points in T\")\n",
        "print(\"There are\", np.shape(fMgrid), \"points in Maxwell grid\")"
      ],
      "execution_count": null,
      "outputs": []
    },
    {
      "cell_type": "markdown",
      "metadata": {
        "id": "kco9_J6_hgJW"
      },
      "source": [
        "Make a 2d mesh plot of this too. As before, you could multiply $f_M$ by 1000 and add appropriate axis labels to your graph. However, I found that making this change makes the plot very tall and strange looking."
      ]
    },
    {
      "cell_type": "code",
      "metadata": {
        "id": "mEMnKRTHhgJX"
      },
      "source": [
        "# In this cell, you will make a 3-D graph of the Maxwell distribution function as a function of speed (v) and temperature (T).\n",
        "\n",
        "# Graph the Maxwell function in 3D using plotly\n",
        "figure_data = [\n",
        "               go.Surface(z=fMgrid, x=vgrid, y=Tgrid),\n",
        "]\n",
        "\n",
        "# Create the figure with the data\n",
        "fig = go.Figure(data=figure_data)\n",
        "\n",
        "# Add title and label axes\n",
        "fig.update_layout(title = 'This 3-D plot shows how Maxwell function (fB) varies with speed (v) and T',\n",
        "                  scene = dict(\n",
        "                    xaxis_title='v (m/s)',\n",
        "                    yaxis_title='T (K)',\n",
        "                    zaxis_title='fM (s/m) x 1000'),\n",
        "                    )\n",
        "fig.show()"
      ],
      "execution_count": null,
      "outputs": []
    },
    {
      "cell_type": "markdown",
      "metadata": {
        "id": "vJo9tJCOhgJX"
      },
      "source": [
        "After you complete the graph, try zooming in and out and turning the graph upside down.\n",
        "\n",
        "### Post-class Quiz Question #2: \n",
        "Similar to question 1, make a hand-drawn sketch of a single graph that contains two Maxwell distribution functions ($f_M(v)\\space$) -- one at high temperature and one at low temperature. Once again, your sketch must be clearly labeled and qualitatively correct in terms of the relative height and width of these two functions.\n"
      ]
    },
    {
      "cell_type": "markdown",
      "metadata": {
        "id": "QGXuzAxohgJY"
      },
      "source": [
        "Now that you have explored how the Boltzmann and Maxwell distribution functions vary with temperature, it is time to take a closer look at the first few moments of the x-direction velocity component. Starting with the first moment, calculate and graph the integrand $v_x f_B(v_x)$ (see Eq. 5) at **300 K**, and integrate according to the trapezoidal rule over an appropriate range of velocities (this will be obvious as you look at the results; you need your integration limits to cover the entire relevant range!). The code below is set up to do this for the first and second moments, you'll need to do the third."
      ]
    },
    {
      "cell_type": "code",
      "metadata": {
        "id": "XaJQ_4e3hgJY"
      },
      "source": [
        "# Plot moments for Boltzmann using matplotlib (notice the figures are not interactable)\n",
        "\n",
        "# Lay out an array of velocities and their probability densities at a single temperature\n",
        "T = 50\n",
        "D = M/(2*R*T)\n",
        "NB = np.sqrt(M/(2*np.pi*R*T))\n",
        "vx = np.linspace(-200,200)\n",
        "fB = NB * np.exp(-D*vx**2)\n",
        "\n",
        "#Plot the integrand for the first moment, and calculate the moment using the trapezoidal rule\n",
        "plt.figure() # Set up a graphics window \n",
        "plt.plot(vx,fB*vx) # Plot the integrand\n",
        "plt.grid(True)\n",
        "plt.xlabel('vx (m/s)') # Label the x axis\n",
        "plt.ylabel('rho * vx') # Label the y axis\n",
        "print('the mean of vx is', np.trapz(fB*vx,vx))\n",
        "\n",
        "#Do the same for the second moment \n",
        "plt.figure()\n",
        "plt.plot(vx,fB*vx**2)\n",
        "plt.grid(True)\n",
        "plt.xlabel('vx (m/s)') # Label the x axis\n",
        "plt.ylabel('rho * v_x^2') # Label the y axis\n",
        "print('the mean of vx^2 is', np.trapz(fB*vx**2,vx))\n",
        "\n",
        "#Do the same for the third moment \n",
        "plt.figure()\n",
        "plt.plot(vx,fB*vx**3)\n",
        "plt.grid(True)\n",
        "plt.xlabel('vx (m/s)') # Label the x axis\n",
        "plt.ylabel('rho * v_x^2') # Label the y axis\n",
        "print('the mean of vx^3 is', np.trapz(fB*vx**3,vx))"
      ],
      "execution_count": null,
      "outputs": []
    },
    {
      "cell_type": "markdown",
      "metadata": {
        "id": "zNbSNNp_hgJY"
      },
      "source": [
        "### Post-class Quiz Question #3: (write answers to this question on CAMINO)\n",
        "a. Sketch the integrands and upload a picture of these graphs onto CAMINO.\n",
        "b. Record the values of $\\langle v_x \\rangle , \\langle v_x^2 \\rangle , and \\langle v_x^3 \\rangle $ that you calculated. \n",
        "c. Articulate a _mathematical_ reason and a _physical_ reason for any mean values that are close to zero.   \n",
        "d. Using this reasoning, make a prediction about the fourth moment (i.e., sketch what you imagine the integrand of $\\langle v_x^4 \\rangle$ will look like, and say whether you think the fourth moment will be zero or not)."
      ]
    },
    {
      "cell_type": "markdown",
      "metadata": {
        "id": "y3DiegRVvdc_"
      },
      "source": [
        "Now you'll do a similar thing with the three moments of the _speed_.  Starting with the first moment, calculate and graph the integrands $v^nf_M(v)$ (see Eq. 10) at **300 K**, and the integrals (which are the moments)."
      ]
    },
    {
      "cell_type": "code",
      "metadata": {
        "id": "12r2ySE9vd8t"
      },
      "source": [
        "# Moments for Maxwell using matplotlib (notice the figures are not interactable)\n",
        "\n",
        "# Lay out an array of velocities and their probability densities at a single temperature\n",
        "T = 50\n",
        "D = M/(2*R*T)\n",
        "NM = np.sqrt(2)*M**1.5*R**(-1.5)*T**(-1.5)*np.pi**(-0.5)\n",
        "v = np.linspace(0,200)\n",
        "fM = NM *v**2 * np.exp(-D*v**2)\n",
        "\n",
        "#Plot the integrand for the first moment, and calculate the moment (called \"c-bar\") using the trapezoidal rule\n",
        "# These first three lines are used to set up a graphics window\n",
        "plt.figure()  \n",
        "plt.plot(v,fM*v)\n",
        "plt.grid(True)\n",
        "\n",
        "# Here I give you a hint but you must remove the # hashtags below)\n",
        "# moment = np.trapz(fM*v,v)\n",
        "# cbar = ...\n",
        "\n",
        "print('The first moment is', cbar,' m/s')\n",
        "\n",
        "#Do the same for the second moment and its square root (call this value \"c\")\n",
        "\n",
        "#Do the same for the third moment and its cubed root (call this value \"ctilde\")"
      ],
      "execution_count": null,
      "outputs": []
    },
    {
      "cell_type": "markdown",
      "metadata": {
        "id": "Ibr7SAj7hgJZ"
      },
      "source": [
        "## Post-class Quiz Questions (write answers to this question on CAMINO) \n",
        "Question #4: You will notice that there is a trend in the values of $\\bar c$, $c$, and $\\tilde c$.  Describe it. \n",
        "\n",
        "Question #5: Describe your experience with this Google Colaboratory exercise. Was it easier, harder, faster, slower, more confusing, fun, challenging, time-consuming, stimulating, detailed, more or less tedious compared to the first two Python exercises?\n",
        "\n",
        "## Further Extensions of this Exercise (Choose a different gas molecule)\n",
        "You'll notice that everywhere the temperature, $T$, occurs in the above formulas, it is divided by the molar mass, $M$. That's interesting, isn't it? it means you ought to be able to predict the effects of a higher or lower mass based on what you've observed about a higher or lower temperature. **So try this**: make a _prediction_ about how $f_B(v_x)$ would change (qualitatively) for, say, $H_2$ (would the distribution be broader or narrower? Taller or shorter?). Then use python to re-calculate $f_B(v_x)$ for $H_2$ by modifying the molar mass you entered at the start of this exercise (see the third executable cell) to see how your prediction fared.\n",
        "###Grading: \n",
        "Like last week, I will be looking for evidence of your mastery of the computational methods embedded in this exercise in google colaboratory: whether the notebook is complete and your results accurate.\n"
      ]
    }
  ]
}